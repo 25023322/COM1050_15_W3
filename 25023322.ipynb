{
 "cells": [
  {
   "cell_type": "code",
   "execution_count": 25,
   "id": "a89cf45b-35b0-4a1c-b9d9-9f8c56779073",
   "metadata": {},
   "outputs": [
    {
     "name": "stdin",
     "output_type": "stream",
     "text": [
      " 5,6\n"
     ]
    },
    {
     "name": "stdout",
     "output_type": "stream",
     "text": [
      "6 5\n"
     ]
    }
   ],
   "source": [
    "\n",
    "    a,b= map(int, (input(\"\").split(\",\")))\n",
    "    a=a^b\n",
    "    b=b^a\n",
    "    a=a^b\n",
    "    print(a,b)   #xor ki hieu la ^\n",
    "\n",
    "\n"
   ]
  },
  {
   "cell_type": "code",
   "execution_count": 11,
   "id": "71b7861f-ddae-458e-8e6c-89a3c795c245",
   "metadata": {},
   "outputs": [
    {
     "name": "stdin",
     "output_type": "stream",
     "text": [
      " -3\n"
     ]
    },
    {
     "name": "stdout",
     "output_type": "stream",
     "text": [
      "-3 khong phai luy thua cua 2\n"
     ]
    }
   ],
   "source": [
    "a = int(input(\"\"))\n",
    "if a&(a-1)==0:    \n",
    "    print(a ,\"la luy thua cua 2\")\n",
    "else:\n",
    "    print(a ,\"khong phai luy thua cua 2\")"
   ]
  },
  {
   "cell_type": "code",
   "execution_count": 26,
   "id": "046ead0b-3132-4a64-a1ee-b6b034f649c0",
   "metadata": {},
   "outputs": [
    {
     "name": "stdin",
     "output_type": "stream",
     "text": [
      " 5,3\n"
     ]
    },
    {
     "name": "stdout",
     "output_type": "stream",
     "text": [
      "1\n"
     ]
    }
   ],
   "source": [
    "\n",
    "m,n=map(float, input(\"\").split(\",\"))\n",
    "a=m/n\n",
    "print(math.floor(a))   #floor lam tron xuong"
   ]
  },
  {
   "cell_type": "code",
   "execution_count": 10,
   "id": "c382813e-2d2c-4c35-8c26-f4c0c205f4fb",
   "metadata": {},
   "outputs": [
    {
     "name": "stdin",
     "output_type": "stream",
     "text": [
      " 5,2\n"
     ]
    },
    {
     "name": "stdout",
     "output_type": "stream",
     "text": [
      "3\n"
     ]
    }
   ],
   "source": [
    "m,n=map(float, input(\"\").split(\",\"))\n",
    "a=m/n\n",
    "print(math.ceil(a))     #ceil lam tron len "
   ]
  },
  {
   "cell_type": "code",
   "execution_count": 16,
   "id": "6a8986f9-5c2c-4a7d-b819-50a10c4b17fe",
   "metadata": {},
   "outputs": [
    {
     "name": "stdin",
     "output_type": "stream",
     "text": [
      " 3423\n"
     ]
    },
    {
     "name": "stdout",
     "output_type": "stream",
     "text": [
      "Odd\n"
     ]
    }
   ],
   "source": [
    "x=int(input(\"\"))\n",
    "if x<=0:\n",
    "    print(\" Lỗi!\")\n",
    "else:\n",
    "    if x%2==0:\n",
    "        print(\"Even\")\n",
    "    else:\n",
    "        print(\"Odd\")\n",
    "        "
   ]
  },
  {
   "cell_type": "code",
   "execution_count": 19,
   "id": "ab8ab859-816b-45a1-bf94-e53bcaff7d5c",
   "metadata": {},
   "outputs": [
    {
     "name": "stdin",
     "output_type": "stream",
     "text": [
      " -2,-3\n"
     ]
    },
    {
     "name": "stdout",
     "output_type": "stream",
     "text": [
      "Yes\n"
     ]
    }
   ],
   "source": [
    "a,b=map(int, input(\"\").split(\",\"))\n",
    "if a<0 and b<0:\n",
    "    print(\"Yes\")\n",
    "else:\n",
    "    print(\"No\")"
   ]
  },
  {
   "cell_type": "code",
   "execution_count": 27,
   "id": "643c57fd-cffe-4681-869b-051e66fce43b",
   "metadata": {},
   "outputs": [
    {
     "name": "stdin",
     "output_type": "stream",
     "text": [
      " ưereferferf,èerfer\n"
     ]
    },
    {
     "name": "stdout",
     "output_type": "stream",
     "text": [
      "True\n"
     ]
    }
   ],
   "source": [
    "a,b=map(str, input(\"\").split(\",\"))\n",
    "if len(a)>len(b):\n",
    "    print(\"True\")\n",
    "else:\n",
    "    print(\"False\")  #len de lay do dai chuoi\n",
    "    "
   ]
  },
  {
   "cell_type": "code",
   "execution_count": 30,
   "id": "e1601e33-b8c9-4249-a54d-2732ca50cbec",
   "metadata": {},
   "outputs": [
    {
     "name": "stdin",
     "output_type": "stream",
     "text": [
      " 3,4,5\n"
     ]
    },
    {
     "name": "stdout",
     "output_type": "stream",
     "text": [
      "Yes\n"
     ]
    }
   ],
   "source": [
    "a,b,c=map(int, input(\"\").split(\",\"))\n",
    "if a<=0 or b<=0 or c<=0:\n",
    "    print(\"Lỗi!\")\n",
    "else:\n",
    "    if a+b>c and b+c>a and c+a>b:\n",
    "        print(\"Yes\")\n",
    "    else:\n",
    "        print(\"No\")\n",
    "        "
   ]
  },
  {
   "cell_type": "code",
   "execution_count": 43,
   "id": "31025000-e33a-4c4d-b5bf-498a5ac22aef",
   "metadata": {},
   "outputs": [
    {
     "name": "stdin",
     "output_type": "stream",
     "text": [
      " 3434,34534,543,56543\n"
     ]
    },
    {
     "name": "stdout",
     "output_type": "stream",
     "text": [
      "56543\n"
     ]
    }
   ],
   "source": [
    "a,b,c,d=map(int, input(\"\").split(\",\"))\n",
    "if a>b and a>c and a>d:\n",
    "    print(a)\n",
    "elif b>a and b>c and b>d:\n",
    "    print(b)\n",
    "elif c>a and c>b and c>d:\n",
    "    print(c)\n",
    "else:\n",
    "    print(d)"
   ]
  },
  {
   "cell_type": "code",
   "execution_count": 53,
   "id": "129976bd-7bcc-492e-a166-9debd1384c78",
   "metadata": {},
   "outputs": [
    {
     "name": "stdin",
     "output_type": "stream",
     "text": [
      " 1,1,2\n"
     ]
    },
    {
     "name": "stdout",
     "output_type": "stream",
     "text": [
      "Không phải tam giác\n"
     ]
    }
   ],
   "source": [
    "a,b,c=map(int, input(\"\").split(\",\"))\n",
    "if a<=0 or b<=0 or c<=0:\n",
    "    print(\"Lỗi!\")\n",
    "else:\n",
    "    if a+b>c and b+c>a and c+a>b:\n",
    "        if a==b==c:\n",
    "            print(\"Tam giác đều\")\n",
    "        elif a==b and a!=c:\n",
    "            print(\"Tam giác cân\")\n",
    "        elif b==c and b!=a:\n",
    "            print(\"Tam giác cân\")\n",
    "        elif c==a and c!=b:\n",
    "            print(\"Tam giác cân\")\n",
    "        else:\n",
    "            print(\"Tam giác thường\")\n",
    "    else:\n",
    "      print(\"Không phải tam giác\")\n",
    "    \n",
    "       "
   ]
  },
  {
   "cell_type": "code",
   "execution_count": 57,
   "id": "a98d6f35-a426-4ad2-9f43-e9db1b1ec88e",
   "metadata": {},
   "outputs": [
    {
     "name": "stdin",
     "output_type": "stream",
     "text": [
      "Số năm: 786756454\n"
     ]
    },
    {
     "name": "stdout",
     "output_type": "stream",
     "text": [
      "No\n"
     ]
    }
   ],
   "source": [
    "n=int(input(\"Số năm:\"))\n",
    "if n<0:\n",
    "    print(\"Lỗi\")\n",
    "else:\n",
    "    if (n%4==0 and n%100!=0) or (n%400==0):\n",
    "        print(\"Yes\")\n",
    "    else:\n",
    "        print(\"No\")"
   ]
  },
  {
   "cell_type": "code",
   "execution_count": 62,
   "id": "73a09e8c-b3f8-4f89-8531-3298462495a5",
   "metadata": {},
   "outputs": [
    {
     "name": "stdin",
     "output_type": "stream",
     "text": [
      " 23,902\n"
     ]
    },
    {
     "name": "stdout",
     "output_type": "stream",
     "text": [
      "nghiệm của phương trình là: 39.22\n"
     ]
    }
   ],
   "source": [
    "a,b= map(float, input(\"\").split(\",\"))\n",
    "if a==0:\n",
    "    if b==0:\n",
    "        print(\"Vô số nghiệm\")\n",
    "    else:\n",
    "        print(\"Vô nghiệm\")\n",
    "else:\n",
    "    x=b/a\n",
    "    print(f\"nghiệm của phương trình là: {x:.2f}\")"
   ]
  },
  {
   "cell_type": "code",
   "execution_count": 77,
   "id": "355706f5-8750-4c91-9b6c-db87bdbc2630",
   "metadata": {},
   "outputs": [
    {
     "name": "stdin",
     "output_type": "stream",
     "text": [
      "Nhập điểm trung bình:  8.2\n"
     ]
    },
    {
     "name": "stdout",
     "output_type": "stream",
     "text": [
      "Giỏi\n"
     ]
    }
   ],
   "source": [
    "x= float(input(\"Nhập điểm trung bình: \"))\n",
    "if x>10.0 or x<0.0:\n",
    "    print(\"Lỗi\")\n",
    "elif x>=8.0:\n",
    "    print(\"Giỏi\")\n",
    "elif x>=6.5:\n",
    "    print(\"Khá\")\n",
    "elif x>=5.0:\n",
    "    print(\"Trung Bình\")\n",
    "else:\n",
    "    print(\"Yếu\")"
   ]
  },
  {
   "cell_type": "code",
   "execution_count": 83,
   "id": "bae68e46-58f9-48d5-85b2-92a0f1c8a8b9",
   "metadata": {},
   "outputs": [
    {
     "name": "stdin",
     "output_type": "stream",
     "text": [
      " 4.5\n"
     ]
    },
    {
     "name": "stdout",
     "output_type": "stream",
     "text": [
      "5,4,4\n"
     ]
    }
   ],
   "source": [
    "a=float(input())\n",
    "print(math.ceil(a),math.floor(a),round(a),sep=\",\")\n",
    "#round la lam tron so nguyen gan nhat\n",
    "#sep: khoang cach giua nhung cai in ra"
   ]
  },
  {
   "cell_type": "code",
   "execution_count": 89,
   "id": "6de4273a-0050-4169-885c-747780733e40",
   "metadata": {},
   "outputs": [
    {
     "name": "stdin",
     "output_type": "stream",
     "text": [
      " 10,100,1000,10000\n"
     ]
    },
    {
     "name": "stdout",
     "output_type": "stream",
     "text": [
      "Đây là cấp số nhân với công bội 10.0\n"
     ]
    }
   ],
   "source": [
    "a,b,c,d=map(float, input(\"\").split(\",\"))\n",
    "if a==0 and b==0 and c==0 and d==0:\n",
    "    print(\"Đây là cấp số nhân với công bội 0\")\n",
    "elif (a==0) and (b!=0 or c!=0 or d!=0):\n",
    "    print(\"Đây không phải cấp số nhân\")\n",
    "elif (b==0) and (a!=0 or c!=0 or d!=0):\n",
    "    print(\"Đây không phải cấp số nhân\")\n",
    "elif (c==0) and (b!=0 or a!=0 or d!=0):\n",
    "    print(\"Đây không phải cấp số nhân\")    \n",
    "elif (d==0) and (b!=0 or c!=0 or a!=0):\n",
    "    print(\"Đây không phải cấp số nhân\")  \n",
    "else:    \n",
    "    x_1=b/a \n",
    "    x_2=c/b\n",
    "    x_3=d/c\n",
    "    if x_1==x_2==x_3:\n",
    "        print(\"Đây là cấp số nhân với công bội\",x_1)\n",
    "    else:\n",
    "        print(\"Đấy không phải cấp số nhân\")\n",
    "\n"
   ]
  },
  {
   "cell_type": "code",
   "execution_count": null,
   "id": "2ae9ae7f-43a1-4eae-81f1-9c287c1ae9d9",
   "metadata": {},
   "outputs": [],
   "source": []
  }
 ],
 "metadata": {
  "kernelspec": {
   "display_name": "Python 3 (ipykernel)",
   "language": "python",
   "name": "python3"
  },
  "language_info": {
   "codemirror_mode": {
    "name": "ipython",
    "version": 3
   },
   "file_extension": ".py",
   "mimetype": "text/x-python",
   "name": "python",
   "nbconvert_exporter": "python",
   "pygments_lexer": "ipython3",
   "version": "3.13.5"
  }
 },
 "nbformat": 4,
 "nbformat_minor": 5
}
